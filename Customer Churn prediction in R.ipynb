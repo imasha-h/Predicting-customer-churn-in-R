{
 "cells": [
  {
   "cell_type": "markdown",
   "id": "85221a1c",
   "metadata": {},
   "source": [
    "# Custmer churn prediction"
   ]
  },
  {
   "cell_type": "markdown",
   "id": "156b4f8e",
   "metadata": {},
   "source": [
    "Results of this exercise showed that Logistic regression gave the best model to predict churn followed closely by Random Forest. Below is a detailed report on my findings"
   ]
  },
  {
   "cell_type": "code",
   "execution_count": 51,
   "id": "3bf5df4e",
   "metadata": {},
   "outputs": [],
   "source": [
    "# Load the packages\n",
    "library(dplyr)\n",
    "library(readr)\n",
    "library(tidyr)\n",
    "library(readxl)\n",
    "library(lubridate)\n",
    "library(ggplot2)\n",
    "library(lattice)\n",
    "library(caret)\n",
    "library(car)\n",
    "library(MASS)\n",
    "library(rpart)"
   ]
  },
  {
   "cell_type": "code",
   "execution_count": 53,
   "id": "55577283",
   "metadata": {},
   "outputs": [
    {
     "name": "stderr",
     "output_type": "stream",
     "text": [
      "Warning message:\n",
      "\"package 'rpart.plot' is in use and will not be installed\"Warning message:\n",
      "\"package 'cowplot' is in use and will not be installed\""
     ]
    }
   ],
   "source": [
    "install.packages(\"rpart.plot\", repos='http://cran.us.r-project.org')\n",
    "library(rpart.plot)\n",
    "install.packages(\"cowplot\", repos='http://cran.us.r-project.org')\n",
    "library(cowplot)"
   ]
  },
  {
   "cell_type": "code",
   "execution_count": 54,
   "id": "32bff649",
   "metadata": {},
   "outputs": [
    {
     "name": "stderr",
     "output_type": "stream",
     "text": [
      "Warning message:\n",
      "\"package 'ROCR' is in use and will not be installed\""
     ]
    }
   ],
   "source": [
    "install.packages(\"ROCR\", repos='http://cran.us.r-project.org')\n",
    "library(ROCR)"
   ]
  },
  {
   "cell_type": "code",
   "execution_count": 55,
   "id": "0857e20c",
   "metadata": {
    "scrolled": true
   },
   "outputs": [
    {
     "name": "stderr",
     "output_type": "stream",
     "text": [
      "Warning message:\n",
      "\"package 'e1071' is in use and will not be installed\""
     ]
    }
   ],
   "source": [
    "install.packages(\"e1071\", repos='http://cran.us.r-project.org')\n",
    "library(e1071) "
   ]
  },
  {
   "cell_type": "code",
   "execution_count": 56,
   "id": "cd1a0810",
   "metadata": {
    "scrolled": true
   },
   "outputs": [
    {
     "name": "stdout",
     "output_type": "stream",
     "text": [
      "\n",
      "  There is a binary version available but the source version is later:\n",
      "         binary source needs_compilation\n",
      "corrplot   0.84   0.87             FALSE\n",
      "\n"
     ]
    },
    {
     "name": "stderr",
     "output_type": "stream",
     "text": [
      "installing the source package 'corrplot'\n",
      "\n"
     ]
    }
   ],
   "source": [
    "install.packages(\"corrplot\", repos='http://cran.us.r-project.org')\n",
    "library(corrplot) "
   ]
  },
  {
   "cell_type": "code",
   "execution_count": 57,
   "id": "b97a921b",
   "metadata": {},
   "outputs": [
    {
     "name": "stderr",
     "output_type": "stream",
     "text": [
      "Warning message:\n",
      "\"package 'randomForest' is in use and will not be installed\""
     ]
    }
   ],
   "source": [
    "install.packages(\"randomForest\", repos='http://cran.us.r-project.org')\n",
    "library(randomForest)"
   ]
  },
  {
   "cell_type": "code",
   "execution_count": 58,
   "id": "0acbdd7f",
   "metadata": {},
   "outputs": [
    {
     "name": "stderr",
     "output_type": "stream",
     "text": [
      "Warning message:\n",
      "\"package 'pROC' is in use and will not be installed\""
     ]
    }
   ],
   "source": [
    "install.packages(\"pROC\", repos='http://cran.us.r-project.org')\n",
    "library(pROC)"
   ]
  },
  {
   "cell_type": "code",
   "execution_count": 59,
   "id": "dd7c04c4",
   "metadata": {},
   "outputs": [],
   "source": [
    "# Import data\n",
    "data <- read_excel(\"Customer_Churn_Data_v2.xlsx\")"
   ]
  },
  {
   "cell_type": "markdown",
   "id": "ee3beb2b",
   "metadata": {},
   "source": [
    "### Exploratory Data Analysis"
   ]
  },
  {
   "cell_type": "code",
   "execution_count": 60,
   "id": "62174b24",
   "metadata": {
    "scrolled": false
   },
   "outputs": [
    {
     "name": "stdout",
     "output_type": "stream",
     "text": [
      "Classes 'tbl_df', 'tbl' and 'data.frame':\t7432 obs. of  14 variables:\n",
      " $ cust_id                            : num  1 2 3 4 5 6 7 8 9 10 ...\n",
      " $ income                             : num  63863 51537 3298 14403 8636 ...\n",
      " $ debt_with_other_lenders            : num  87983 63655 4776 13925 10144 ...\n",
      " $ credit_score                       : num  20 17 2 5 3 7 1 8 7 2 ...\n",
      " $ has_previous_defaults_other_lenders: num  0 0 0 0 0 0 1 0 0 1 ...\n",
      " $ num_remittances_prev_12_mth        : num  22 20 26 18 21 21 13 24 21 18 ...\n",
      " $ remittance_amt_prev_12_mth         : num  23377 8354 1214 6203 6175 ...\n",
      " $ main_remittance_corridor           : chr  \"AE_IN\" \"AE_PK\" \"AE_PK\" \"AE_IN\" ...\n",
      " $ opened_campaign_1                  : num  0 0 0 0 0 0 0 0 0 0 ...\n",
      " $ opened_campaign_2                  : num  0 0 0 0 0 0 0 0 0 0 ...\n",
      " $ opened_campaign_3                  : num  0 0 0 0 0 1 0 0 0 0 ...\n",
      " $ opened_campaign_4                  : num  0 0 0 0 0 0 0 1 0 1 ...\n",
      " $ tenure_years                       : num  2.065 2.762 0.297 2.623 0.16 ...\n",
      " $ churned                            : num  0 0 1 0 0 0 0 0 0 1 ...\n"
     ]
    }
   ],
   "source": [
    "# Check the structure of dataset\n",
    "str(data)"
   ]
  },
  {
   "cell_type": "markdown",
   "id": "de2f2b71",
   "metadata": {},
   "source": [
    "The raw data contains 7432 rows (customers) and 14 features. The 'churned' column is the target"
   ]
  },
  {
   "cell_type": "code",
   "execution_count": 61,
   "id": "516dc437",
   "metadata": {
    "scrolled": true
   },
   "outputs": [
    {
     "data": {
      "text/html": [
       "823"
      ],
      "text/latex": [
       "823"
      ],
      "text/markdown": [
       "823"
      ],
      "text/plain": [
       "[1] 823"
      ]
     },
     "metadata": {},
     "output_type": "display_data"
    },
    {
     "data": {
      "text/html": [
       "<dl class=dl-horizontal>\n",
       "\t<dt>cust_id</dt>\n",
       "\t\t<dd>0</dd>\n",
       "\t<dt>income</dt>\n",
       "\t\t<dd>233</dd>\n",
       "\t<dt>debt_with_other_lenders</dt>\n",
       "\t\t<dd>295</dd>\n",
       "\t<dt>credit_score</dt>\n",
       "\t\t<dd>295</dd>\n",
       "\t<dt>has_previous_defaults_other_lenders</dt>\n",
       "\t\t<dd>0</dd>\n",
       "\t<dt>num_remittances_prev_12_mth</dt>\n",
       "\t\t<dd>0</dd>\n",
       "\t<dt>remittance_amt_prev_12_mth</dt>\n",
       "\t\t<dd>0</dd>\n",
       "\t<dt>main_remittance_corridor</dt>\n",
       "\t\t<dd>0</dd>\n",
       "\t<dt>opened_campaign_1</dt>\n",
       "\t\t<dd>0</dd>\n",
       "\t<dt>opened_campaign_2</dt>\n",
       "\t\t<dd>0</dd>\n",
       "\t<dt>opened_campaign_3</dt>\n",
       "\t\t<dd>0</dd>\n",
       "\t<dt>opened_campaign_4</dt>\n",
       "\t\t<dd>0</dd>\n",
       "\t<dt>tenure_years</dt>\n",
       "\t\t<dd>0</dd>\n",
       "\t<dt>churned</dt>\n",
       "\t\t<dd>0</dd>\n",
       "</dl>\n"
      ],
      "text/latex": [
       "\\begin{description*}\n",
       "\\item[cust\\textbackslash{}\\_id] 0\n",
       "\\item[income] 233\n",
       "\\item[debt\\textbackslash{}\\_with\\textbackslash{}\\_other\\textbackslash{}\\_lenders] 295\n",
       "\\item[credit\\textbackslash{}\\_score] 295\n",
       "\\item[has\\textbackslash{}\\_previous\\textbackslash{}\\_defaults\\textbackslash{}\\_other\\textbackslash{}\\_lenders] 0\n",
       "\\item[num\\textbackslash{}\\_remittances\\textbackslash{}\\_prev\\textbackslash{}\\_12\\textbackslash{}\\_mth] 0\n",
       "\\item[remittance\\textbackslash{}\\_amt\\textbackslash{}\\_prev\\textbackslash{}\\_12\\textbackslash{}\\_mth] 0\n",
       "\\item[main\\textbackslash{}\\_remittance\\textbackslash{}\\_corridor] 0\n",
       "\\item[opened\\textbackslash{}\\_campaign\\textbackslash{}\\_1] 0\n",
       "\\item[opened\\textbackslash{}\\_campaign\\textbackslash{}\\_2] 0\n",
       "\\item[opened\\textbackslash{}\\_campaign\\textbackslash{}\\_3] 0\n",
       "\\item[opened\\textbackslash{}\\_campaign\\textbackslash{}\\_4] 0\n",
       "\\item[tenure\\textbackslash{}\\_years] 0\n",
       "\\item[churned] 0\n",
       "\\end{description*}\n"
      ],
      "text/markdown": [
       "cust_id\n",
       ":   0income\n",
       ":   233debt_with_other_lenders\n",
       ":   295credit_score\n",
       ":   295has_previous_defaults_other_lenders\n",
       ":   0num_remittances_prev_12_mth\n",
       ":   0remittance_amt_prev_12_mth\n",
       ":   0main_remittance_corridor\n",
       ":   0opened_campaign_1\n",
       ":   0opened_campaign_2\n",
       ":   0opened_campaign_3\n",
       ":   0opened_campaign_4\n",
       ":   0tenure_years\n",
       ":   0churned\n",
       ":   0\n",
       "\n"
      ],
      "text/plain": [
       "                            cust_id                              income \n",
       "                                  0                                 233 \n",
       "            debt_with_other_lenders                        credit_score \n",
       "                                295                                 295 \n",
       "has_previous_defaults_other_lenders         num_remittances_prev_12_mth \n",
       "                                  0                                   0 \n",
       "         remittance_amt_prev_12_mth            main_remittance_corridor \n",
       "                                  0                                   0 \n",
       "                  opened_campaign_1                   opened_campaign_2 \n",
       "                                  0                                   0 \n",
       "                  opened_campaign_3                   opened_campaign_4 \n",
       "                                  0                                   0 \n",
       "                       tenure_years                             churned \n",
       "                                  0                                   0 "
      ]
     },
     "metadata": {},
     "output_type": "display_data"
    }
   ],
   "source": [
    "#check missing values\n",
    "sum(is.na(data))\n",
    "colSums(is.na(data))"
   ]
  },
  {
   "cell_type": "markdown",
   "id": "d9f85509",
   "metadata": {},
   "source": [
    "823 / 7432 or 11% missing values. When inspecting further we see they are not missing at random"
   ]
  },
  {
   "cell_type": "markdown",
   "id": "4d3c50be",
   "metadata": {},
   "source": [
    "Earned income does not include amounts such as pensions and annuities, welfare benefits, unemployment compensation, worker's compensation benefits, or social security benefits, which would explain NAs in income, as these customers were making regular payments too.\n",
    "\n",
    "NA in debt with other lenders means they didn't have debt before\n",
    "\n",
    "295 customers having missing credit score, is something ti be looked into further, for the purpose of this task I have converted all 0.\n",
    "\n",
    "Therefore to tackle missing values, I've decided to convert all NAs"
   ]
  },
  {
   "cell_type": "code",
   "execution_count": 62,
   "id": "8fc4197b",
   "metadata": {},
   "outputs": [],
   "source": [
    "data <- data %>% mutate_all(funs(ifelse(is.na(.), 0, .))) #change all NAs to 0\n",
    "\n",
    "\n",
    "#other methods I used to explore missingness:\n",
    "#data <- data[complete.cases(data),] #complete case\n",
    "#imputeds <-    #impute NA with median"
   ]
  },
  {
   "cell_type": "markdown",
   "id": "3025dd0b",
   "metadata": {},
   "source": [
    "### Data Wrangling"
   ]
  },
  {
   "cell_type": "markdown",
   "id": "c2ea1ab6",
   "metadata": {},
   "source": [
    "#### Change the values in columns 0 or 1 to “No” or “Yes”"
   ]
  },
  {
   "cell_type": "code",
   "execution_count": 63,
   "id": "26e7ae95",
   "metadata": {},
   "outputs": [],
   "source": [
    "data <- data %>% \n",
    "  mutate(churned = ifelse(churned == 1,'YES','NO'),\n",
    "         has_previous_defaults_other_lenders = ifelse(has_previous_defaults_other_lenders == 1, 'YES', 'NO'),\n",
    "         opened_campaign_1 = ifelse(opened_campaign_1 == 1, 'OPENED', 'UNOPENED'),\n",
    "         opened_campaign_2 = ifelse(opened_campaign_2 == 1, 'OPENED', 'UNOPENED'),\n",
    "         opened_campaign_3 = ifelse(opened_campaign_3 == 1, 'OPENED', 'UNOPENED'),\n",
    "         opened_campaign_4 = ifelse(opened_campaign_4 == 1, 'OPENED', 'UNOPENED'))"
   ]
  },
  {
   "cell_type": "markdown",
   "id": "c4f3c2df",
   "metadata": {},
   "source": [
    "#### Catorgorise tenure years"
   ]
  },
  {
   "cell_type": "code",
   "execution_count": 64,
   "id": "a2f58c59",
   "metadata": {},
   "outputs": [],
   "source": [
    "data<-data %>% \n",
    "  mutate(group_tenure = case_when(tenure_years < 0.5 ~ '0–6 Month',\n",
    "                                  tenure_years >=0.5 & tenure_years < 1 ~ '6-12 Months',\n",
    "                                  tenure_years >=1 & tenure_years < 1.5 ~ '12-18 Months', \n",
    "                                  tenure_years >=1.5 & tenure_years < 2 ~ '18-24 Months',\n",
    "                                  tenure_years >=2 & tenure_years < 2.5 ~ '24-30 Months',\n",
    "                                  tenure_years >=2.5 ~ '>30 Months'))"
   ]
  },
  {
   "cell_type": "markdown",
   "id": "c46bca96",
   "metadata": {},
   "source": [
    "#### Remove the columns we do not need for the analysis."
   ]
  },
  {
   "cell_type": "code",
   "execution_count": 65,
   "id": "02e6d3a9",
   "metadata": {},
   "outputs": [],
   "source": [
    "data$cust_id <- NULL\n",
    "data$tenure_years<- NULL"
   ]
  },
  {
   "cell_type": "markdown",
   "id": "ff861db5",
   "metadata": {},
   "source": [
    "### Feature selection"
   ]
  },
  {
   "cell_type": "markdown",
   "id": "615d4293",
   "metadata": {},
   "source": [
    "#### Correlation between numeric variables"
   ]
  },
  {
   "cell_type": "code",
   "execution_count": 66,
   "id": "435dc62b",
   "metadata": {
    "scrolled": false
   },
   "outputs": [
    {
     "data": {
      "image/png": "[encoded data removed]",
      "text/plain": [
       "Plot with title \"\n",
       "\n",
       "Correlation Plot for Numerical Variables\""
      ]
     },
     "metadata": {},
     "output_type": "display_data"
    }
   ],
   "source": [
    "corr.matrix<-cor(data[, sapply(data, is.numeric)],\n",
    "    use = \"complete.obs\", method = \"pearson\")\n",
    "options(repr.plot.width = 5, repr.plot.height = 5)\n",
    "corrplot(corr.matrix, main=\"\\n\\nCorrelation Plot for Numerical Variables\", method=\"number\",is.corr = T)"
   ]
  },
  {
   "cell_type": "markdown",
   "id": "3b68aa04",
   "metadata": {},
   "source": [
    "Income, Credit Score and Remittance amount are highly correlated. So remittance_amt_prev_12_mth and credit_score will be removed"
   ]
  },
  {
   "cell_type": "code",
   "execution_count": 67,
   "id": "3529dae6",
   "metadata": {},
   "outputs": [],
   "source": [
    "data$remittance_amt_prev_12_mth <- NULL\n",
    "data$credit_score <- NULL"
   ]
  },
  {
   "cell_type": "code",
   "execution_count": 68,
   "id": "e6779ebe",
   "metadata": {
    "scrolled": true
   },
   "outputs": [
    {
     "data": {
      "image/png": "[encoded data removed]",
      "text/plain": [
       "plot without title"
      ]
     },
     "metadata": {},
     "output_type": "display_data"
    }
   ],
   "source": [
    "# Decrease graph size from standard\n",
    "options(repr.plot.width = 7, repr.plot.height = 3)\n",
    "plot_grid(\n",
    "data %>%\n",
    "    filter(churned == \"YES\") %>%\n",
    "    group_by(income) %>%\n",
    "    summarize(\n",
    "        n = n()\n",
    "    ) %>%\n",
    "    mutate(\n",
    "        Percentage = round(n / sum(n), 3)\n",
    "    ) %>%\n",
    "    # Create plot\n",
    "    ggplot(\n",
    "        aes(x = income, y = Percentage, color = income)\n",
    "    ) +\n",
    "    stat_smooth(method = \"lm\", col = \"red\") +\n",
    "    geom_point(alpha = 2/3) +\n",
    "    # Clean graph visual a bit\n",
    "  #  theme +\n",
    "    labs(\n",
    "        x = \"Income\", y = \"Churn (%)\"\n",
    "    ),\n",
    "\n",
    "ggplot(\n",
    "    data = data,\n",
    "    aes(y = income, x = churned, color = churned)\n",
    "    ) +\n",
    "  #  theme +\n",
    "    geom_boxplot()\n",
    ", align = \"h\")"
   ]
  },
  {
   "cell_type": "code",
   "execution_count": 69,
   "id": "cc9d8c7f",
   "metadata": {
    "scrolled": true
   },
   "outputs": [
    {
     "data": {
      "image/png": "[encoded data removed]",
      "text/plain": [
       "plot without title"
      ]
     },
     "metadata": {},
     "output_type": "display_data"
    }
   ],
   "source": [
    "# Decrease graph size from standard\n",
    "options(repr.plot.width = 7, repr.plot.height = 3)\n",
    "plot_grid(\n",
    "data %>%\n",
    "    filter(churned == \"YES\") %>%\n",
    "    group_by(debt_with_other_lenders) %>%\n",
    "    summarize(\n",
    "        n = n()\n",
    "    ) %>%\n",
    "    mutate(\n",
    "        Percentage = round(n / sum(n), 3)\n",
    "    ) %>%\n",
    "    # Create plot\n",
    "    ggplot(\n",
    "        aes(x = debt_with_other_lenders, y = Percentage, color = debt_with_other_lenders)\n",
    "    ) +\n",
    "    stat_smooth(method = \"lm\", col = \"red\") +\n",
    "    geom_point(alpha = 2/3) +\n",
    "    # Clean graph visual a bit\n",
    "  #  theme +\n",
    "    labs(\n",
    "        x = \"debt_with_other_lenders\", y = \"Churn (%)\"\n",
    "    ),\n",
    "\n",
    "ggplot(\n",
    "    data = data,\n",
    "    aes(y = debt_with_other_lenders, x = churned, color = churned)\n",
    "    ) +\n",
    "  #  theme +\n",
    "    geom_boxplot()\n",
    ", align = \"h\")"
   ]
  },
  {
   "cell_type": "code",
   "execution_count": 70,
   "id": "b42b6d02",
   "metadata": {
    "scrolled": true
   },
   "outputs": [
    {
     "data": {
      "image/png": "[encoded data removed]",
      "text/plain": [
       "plot without title"
      ]
     },
     "metadata": {},
     "output_type": "display_data"
    }
   ],
   "source": [
    "# Decrease graph size from standard\n",
    "options(repr.plot.width = 10, repr.plot.height = 10)\n",
    "plot_grid(\n",
    "data %>%\n",
    "    filter(churned == \"YES\") %>%\n",
    "    group_by(num_remittances_prev_12_mth) %>%\n",
    "    summarize(\n",
    "        n = n()\n",
    "    ) %>%\n",
    "    mutate(\n",
    "        Percentage = round(n / sum(n), 3)\n",
    "    ) %>%\n",
    "    # Create plot\n",
    "    ggplot(\n",
    "        aes(x = num_remittances_prev_12_mth, y = Percentage, color = num_remittances_prev_12_mth)\n",
    "    ) +\n",
    "    stat_smooth(method = \"lm\", col = \"red\") +\n",
    "    geom_point(alpha = 2/3) +\n",
    "    # Clean graph visual a bit\n",
    "  #  theme +\n",
    "    labs(\n",
    "        x = \"num_remittances_prev_12_mth\", y = \"Churn (%)\"\n",
    "    ),\n",
    "\n",
    "ggplot(\n",
    "    data = data,\n",
    "    aes(y = num_remittances_prev_12_mth, x = churned, color = churned)\n",
    "    ) +\n",
    "  #  theme +\n",
    "    geom_boxplot()\n",
    ", align = \"h\")"
   ]
  },
  {
   "cell_type": "markdown",
   "id": "73fb7e82",
   "metadata": {},
   "source": [
    "Some customers had made over 300 remittances over 12 months, which means ~ 25 payments per month. This doesn't seem correct and therefore classed as outliers and should be removed"
   ]
  },
  {
   "cell_type": "code",
   "execution_count": 71,
   "id": "ddff405e",
   "metadata": {},
   "outputs": [],
   "source": [
    "data <- data %>% filter(num_remittances_prev_12_mth < 200)"
   ]
  },
  {
   "cell_type": "markdown",
   "id": "ffb10df3",
   "metadata": {},
   "source": [
    "#### Bar plots of categorical variables"
   ]
  },
  {
   "cell_type": "code",
   "execution_count": 72,
   "id": "63054b7e",
   "metadata": {
    "scrolled": true
   },
   "outputs": [
    {
     "data": {
      "text/html": [
       "<table>\n",
       "<thead><tr><th scope=col>churned</th><th scope=col>n</th></tr></thead>\n",
       "<tbody>\n",
       "\t<tr><td>NO  </td><td>6626</td></tr>\n",
       "\t<tr><td>YES </td><td> 526</td></tr>\n",
       "</tbody>\n",
       "</table>\n"
      ],
      "text/latex": [
       "\\begin{tabular}{r|ll}\n",
       " churned & n\\\\\n",
       "\\hline\n",
       "\t NO   & 6626\\\\\n",
       "\t YES  &  526\\\\\n",
       "\\end{tabular}\n"
      ],
      "text/markdown": [
       "\n",
       "| churned | n |\n",
       "|---|---|\n",
       "| NO   | 6626 |\n",
       "| YES  |  526 |\n",
       "\n"
      ],
      "text/plain": [
       "  churned n   \n",
       "1 NO      6626\n",
       "2 YES      526"
      ]
     },
     "metadata": {},
     "output_type": "display_data"
    }
   ],
   "source": [
    "# How many churns in this dataset ?\n",
    "#Count churned or not\n",
    "data %>% count(churned)"
   ]
  },
  {
   "cell_type": "markdown",
   "id": "f7c8e640",
   "metadata": {},
   "source": [
    "1 - stopped using   \n",
    "0 - continued using"
   ]
  },
  {
   "cell_type": "code",
   "execution_count": 73,
   "id": "424bd725",
   "metadata": {
    "scrolled": false
   },
   "outputs": [
    {
     "data": {
      "image/png": "[encoded data removed]",
      "text/plain": [
       "plot without title"
      ]
     },
     "metadata": {},
     "output_type": "display_data"
    }
   ],
   "source": [
    "data <- data %>%\n",
    "  mutate(\n",
    "    # column was int but best to have it as logical\n",
    "    churned = as.factor(churned)\n",
    "  )\n",
    "\n",
    "options(repr.plot.width = 3, repr.plot.height = 3)\n",
    "\n",
    "data %>%\n",
    "  group_by(churned) %>%\n",
    "  summarize(\n",
    "    n = n()\n",
    "  ) %>%\n",
    "  mutate(\n",
    "    percentage = round(n / sum(n), 3),\n",
    "    n = NULL\n",
    "  ) %>%\n",
    "  ggplot(aes(x = churned, y = percentage)) + geom_col(aes(fill = churned)) +\n",
    "  theme() +\n",
    "  geom_text(\n",
    "    aes(x = churned, y = percentage, label = paste(percentage*100, \"%\", sep = \"\"))\n",
    "  )\n"
   ]
  },
  {
   "cell_type": "markdown",
   "id": "2d0c00ab",
   "metadata": {},
   "source": [
    "#### 7.4% of customers in this dataset have churned.\n",
    "\n",
    "#### Next, I'll explore other columns with a function to output multiple graphs at once."
   ]
  },
  {
   "cell_type": "code",
   "execution_count": 74,
   "id": "3f2a4e31",
   "metadata": {
    "scrolled": true
   },
   "outputs": [
    {
     "data": {
      "image/png": "[encoded data removed]",
      "text/plain": [
       "plot without title"
      ]
     },
     "metadata": {},
     "output_type": "display_data"
    },
    {
     "data": {
      "image/png": "[encoded data removed]",
      "text/plain": [
       "plot without title"
      ]
     },
     "metadata": {},
     "output_type": "display_data"
    },
    {
     "data": {
      "image/png": "[encoded data removed]",
      "text/plain": [
       "plot without title"
      ]
     },
     "metadata": {},
     "output_type": "display_data"
    },
    {
     "data": {
      "image/png": "[encoded data removed]",
      "text/plain": [
       "plot without title"
      ]
     },
     "metadata": {},
     "output_type": "display_data"
    },
    {
     "data": {
      "image/png": "[encoded data removed]",
      "text/plain": [
       "plot without title"
      ]
     },
     "metadata": {},
     "output_type": "display_data"
    },
    {
     "ename": "ERROR",
     "evalue": "Can't bind data because some arguments have the same name",
     "output_type": "error",
     "traceback": [
      "Can't bind data because some arguments have the same nameTraceback:\n",
      "1. subset(function_columns, !is.na(function_columns[, i]) & function_columns[, \n .     i] != \"\", select = cname) %>% group_by_at(vars(cname)) %>% \n .     summarize(n = n()) %>% mutate(Percentage = round(n/sum(n), \n .     2))",
      "2. withVisible(eval(quote(`_fseq`(`_lhs`)), env, env))",
      "3. eval(quote(`_fseq`(`_lhs`)), env, env)",
      "4. eval(quote(`_fseq`(`_lhs`)), env, env)",
      "5. `_fseq`(`_lhs`)",
      "6. freduce(value, `_function_list`)",
      "7. function_list[[i]](value)",
      "8. group_by_at(., vars(cname))",
      "9. manip_at(.tbl, .vars, .funs, enquo(.funs), caller_env(), .include_group_vars = TRUE, \n .     ...)",
      "10. tbl_at_syms(.tbl, .vars, .include_group_vars = .include_group_vars)",
      "11. tbl_at_vars(tbl, vars, .include_group_vars = .include_group_vars)",
      "12. tidyselect::vars_select(tibble_vars, !!!vars)",
      "13. vars_select_eval(.vars, quos)",
      "14. child_env(data_helpers_env, !!!data)",
      "15. env_bind_impl(env, list2(...))",
      "16. abort(\"Can't bind data because some arguments have the same name\")"
     ]
    },
    {
     "data": {
      "image/png": "[encoded data removed]",
      "text/plain": [
       "plot without title"
      ]
     },
     "metadata": {},
     "output_type": "display_data"
    },
    {
     "data": {
      "image/png": "[encoded data removed]",
      "text/plain": [
       "plot without title"
      ]
     },
     "metadata": {},
     "output_type": "display_data"
    }
   ],
   "source": [
    "# Decrease graph size from standard\n",
    "options(repr.plot.width = 3, repr.plot.height = 3)\n",
    "\n",
    "# Function to generate graphs for factor variables and churn\n",
    "\n",
    "## Extract columns to be analyzed\n",
    "function_columns <- data %>%\n",
    "  dplyr::select(\n",
    "    \n",
    "    'main_remittance_corridor', 'group_tenure', 'has_previous_defaults_other_lenders',\n",
    "    'opened_campaign_1', 'opened_campaign_2', 'opened_campaign_3', 'opened_campaign_4','churned'\n",
    "  )\n",
    "\n",
    "## Function, goes through each column selected\n",
    "for (i in 1:ncol(function_columns))\n",
    "{\n",
    "  # Get column names so dplyr group by works\n",
    "  cname <- colnames(function_columns[c(i,8)])\n",
    "  # Subset data frame by variable name selected\n",
    "  a <- subset(\n",
    "    function_columns, !is.na(function_columns[,i]) & function_columns[,i] != \"\",\n",
    "    select = cname\n",
    "  ) %>%\n",
    "    # Create percentage statistics per variable\n",
    "    group_by_at(vars(cname)) %>%\n",
    "    summarize(\n",
    "      n = n()\n",
    "    ) %>%\n",
    "    mutate(\n",
    "      Percentage = round(n / sum(n), 2)\n",
    "    )\n",
    "  \n",
    "  # Save plot in a variable so plots can be displayed sequentialy\n",
    "  p <- ggplot(\n",
    "    data = a, aes_string(\n",
    "      x = colnames(a[1]), y = colnames(a[4]), fill = colnames(a[1])\n",
    "    )\n",
    "  ) +\n",
    "    # Split each graph per Churn to see influence of variable\n",
    "    facet_wrap(\"churned\") + \n",
    "    geom_bar(stat = \"identity\") +\n",
    "    # Make graph a bit cleaner\n",
    "    theme(\n",
    "      axis.text.y = element_blank(), axis.ticks.y = element_blank(),\n",
    "      axis.text.x = element_text(angle = 70, hjust = 1),\n",
    "      legend.position=\"none\"\n",
    "    ) +\n",
    "    geom_text(\n",
    "      aes(y = Percentage, label = paste0(Percentage * 100,\"%\"))\n",
    "    ) +\n",
    "    labs(\n",
    "      x = colnames(a[1]), y = \"Churn\", title = paste(\"Churn and\", colnames(a[1]))\n",
    "    )\n",
    "  \n",
    "  # Display graphs\n",
    "  print(p)\n",
    "  # Cleanup\n",
    "  rm(cname, a, p)\n",
    "}\n"
   ]
  },
  {
   "cell_type": "markdown",
   "id": "d80a618c",
   "metadata": {},
   "source": [
    "We can see, having previous defaults, and all 4 Opened campaigns do not seem to have an influence on churn.\n",
    "\n",
    "Some characteristics of data points with higher churn:\n",
    "'income', 'debt_with_other_lenders', \n",
    "    'num_remittances_prev_12_mth', 'main_remittance_corridor', 'group_tenure' have a higher churn rate."
   ]
  },
  {
   "cell_type": "markdown",
   "id": "26414f66",
   "metadata": {},
   "source": [
    "### Data cleaning and preparation"
   ]
  },
  {
   "cell_type": "markdown",
   "id": "8bc09643",
   "metadata": {},
   "source": [
    "#### Removing columns we won't analyze"
   ]
  },
  {
   "cell_type": "markdown",
   "id": "e43a3b1f",
   "metadata": {},
   "source": [
    "From the above, previous_defaults_other_lenders, and all 4 opened campaigns will also be removed.\n",
    "\n"
   ]
  },
  {
   "cell_type": "code",
   "execution_count": 76,
   "id": "d758b081",
   "metadata": {},
   "outputs": [],
   "source": [
    "# Remove columns we didn't see influence on churn from above\n",
    "data.model <- data %>%\n",
    "    dplyr::select(\n",
    "        -has_previous_defaults_other_lenders, -opened_campaign_1, -opened_campaign_2,-opened_campaign_3, -opened_campaign_4 \n",
    "    )"
   ]
  },
  {
   "cell_type": "code",
   "execution_count": 77,
   "id": "b07fa743",
   "metadata": {},
   "outputs": [],
   "source": [
    "data.model=data.model %>% mutate_if(is.character, as.factor)"
   ]
  },
  {
   "cell_type": "markdown",
   "id": "b1e5ab00",
   "metadata": {},
   "source": [
    "Split train and test data\n",
    "Training dataset will have 75% of the original data."
   ]
  },
  {
   "cell_type": "code",
   "execution_count": 78,
   "id": "dcd77804",
   "metadata": {},
   "outputs": [],
   "source": [
    "# Set seed\n",
    "set.seed(123)\n",
    "\n",
    "# Split data, 75% distribution of churn for training\n",
    "train.index <- createDataPartition(\n",
    "    y = data.model$churned, p = 0.75, list = FALSE\n",
    ")\n",
    "\n",
    "train <- data.model[train.index,]\n",
    "test <- data.model[-train.index,]"
   ]
  },
  {
   "cell_type": "markdown",
   "id": "e1e9237d",
   "metadata": {},
   "source": [
    "## Decision Tree"
   ]
  },
  {
   "cell_type": "markdown",
   "id": "a22e1c19",
   "metadata": {},
   "source": [
    "A decision tree is a supervised machine learning algorithm that can be used for both classification and regression problems. A decision tree is simply a series of sequential decisions made to reach a specific result. A decision tree can give a nice and easy visualization of the prediction rules.\n",
    "They are easy to understand and interpret, perfect for visual representation\n",
    "Requires little data preprocessing: no need for one-hot encoding, dummy variables, and so on.\n",
    "Non-parametric model: no assumptions about the shape of data.\n",
    "However a small change in the data can cause a large change in the structure of the decision tree causing instability also it is inadequate for applying regression and predicting continuous values."
   ]
  },
  {
   "cell_type": "code",
   "execution_count": 79,
   "id": "46f1771a",
   "metadata": {},
   "outputs": [],
   "source": [
    "# Fit model\n",
    "tree.fit <- rpart(\n",
    "  churned ~ ., \n",
    "  data = data.model, \n",
    "  method = \"class\"\n",
    ")"
   ]
  },
  {
   "cell_type": "code",
   "execution_count": 80,
   "id": "7b043041",
   "metadata": {
    "scrolled": false
   },
   "outputs": [
    {
     "data": {
      "text/plain": [
       "Confusion Matrix and Statistics\n",
       "\n",
       "          Reference\n",
       "Prediction   NO  YES\n",
       "       NO  1643   34\n",
       "       YES   13   97\n",
       "                                          \n",
       "               Accuracy : 0.9737          \n",
       "                 95% CI : (0.9652, 0.9806)\n",
       "    No Information Rate : 0.9267          \n",
       "    P-Value [Acc > NIR] : < 2.2e-16       \n",
       "                                          \n",
       "                  Kappa : 0.791           \n",
       "                                          \n",
       " Mcnemar's Test P-Value : 0.003531        \n",
       "                                          \n",
       "            Sensitivity : 0.9921          \n",
       "            Specificity : 0.7405          \n",
       "         Pos Pred Value : 0.9797          \n",
       "         Neg Pred Value : 0.8818          \n",
       "             Prevalence : 0.9267          \n",
       "         Detection Rate : 0.9194          \n",
       "   Detection Prevalence : 0.9384          \n",
       "      Balanced Accuracy : 0.8663          \n",
       "                                          \n",
       "       'Positive' Class : NO              \n",
       "                                          "
      ]
     },
     "metadata": {},
     "output_type": "display_data"
    },
    {
     "data": {
      "text/html": [
       "'AUC Value is: 0.963081277427444'"
      ],
      "text/latex": [
       "'AUC Value is: 0.963081277427444'"
      ],
      "text/markdown": [
       "'AUC Value is: 0.963081277427444'"
      ],
      "text/plain": [
       "[1] \"AUC Value is: 0.963081277427444\""
      ]
     },
     "metadata": {},
     "output_type": "display_data"
    },
    {
     "data": {
      "image/png": "[encoded data removed]",
      "text/plain": [
       "plot without title"
      ]
     },
     "metadata": {},
     "output_type": "display_data"
    },
    {
     "data": {
      "image/png": "[encoded data removed]",
      "text/plain": [
       "plot without title"
      ]
     },
     "metadata": {},
     "output_type": "display_data"
    }
   ],
   "source": [
    "options(repr.plot.width = 10, repr.plot.height = 10)\n",
    "\n",
    "# Graph of tree\n",
    "rpart.plot(\n",
    "  tree.fit,\n",
    "  type = 4,\n",
    "  extra = 2,\n",
    "  under = TRUE,\n",
    "  fallen.leaves = F\n",
    ")\n",
    "\n",
    "# Prediction, classification\n",
    "tree.pred <- predict(\n",
    "  tree.fit,\n",
    "  test, \n",
    "  type = \"class\"\n",
    ")\n",
    "\n",
    "confusionMatrix(\n",
    "  tree.pred,as.factor(test$churned)\n",
    ")\n",
    "\n",
    "# Prediction, probability\n",
    "tree.pred.prob <- predict(\n",
    "  tree.fit, \n",
    "  test, \n",
    "  type = \"prob\"\n",
    ")\n",
    "tree.pred.prob.val <- prediction(\n",
    "  tree.pred.prob[,2],\n",
    "  test$churned\n",
    ")\n",
    "tree.pred.prob.perf <- performance(\n",
    "  tree.pred.prob.val,\n",
    "  \"auc\"\n",
    ")\n",
    "\n",
    "# print AUC value\n",
    "paste(\n",
    "  \"AUC Value is:\", \n",
    "  as.numeric(performance(\n",
    "    tree.pred.prob.val, \n",
    "    \"auc\"\n",
    "  )@y.values\n",
    "  )\n",
    ")\n",
    "# plots the ROC curve with colors where the splits are.\n",
    "plot(performance(tree.pred.prob.val, \"tpr\", \"fpr\"), colorize = TRUE)"
   ]
  },
  {
   "cell_type": "markdown",
   "id": "66e38577",
   "metadata": {},
   "source": [
    "# Random Forest"
   ]
  },
  {
   "cell_type": "markdown",
   "id": "7e139346",
   "metadata": {},
   "source": [
    "Random Forests are robust to outliers and work really well with non linear data. There is also lower risk of overfitting and has better acuracy than decision trees. Downside is that they are very slow running and can be biased when dealing with catergorical variables"
   ]
  },
  {
   "cell_type": "code",
   "execution_count": 81,
   "id": "e0e0a6fd",
   "metadata": {},
   "outputs": [],
   "source": [
    "#rf.fit  <- train(churned ~ . , method = \"rf\", data = train, importance = TRUE)\n",
    "\n",
    "#rf.pred <- predict(rf.fit, test)"
   ]
  },
  {
   "cell_type": "code",
   "execution_count": 82,
   "id": "1e7166b3",
   "metadata": {},
   "outputs": [],
   "source": [
    "rf.fit <- randomForest(as.factor(churned) ~., data = train)\n",
    "rf.pred <- predict(rf.fit, test)"
   ]
  },
  {
   "cell_type": "code",
   "execution_count": 83,
   "id": "09be786a",
   "metadata": {},
   "outputs": [
    {
     "data": {
      "text/plain": [
       "\n",
       "Call:\n",
       " randomForest(formula = as.factor(churned) ~ ., data = train) \n",
       "               Type of random forest: classification\n",
       "                     Number of trees: 500\n",
       "No. of variables tried at each split: 2\n",
       "\n",
       "        OOB estimate of  error rate: 3.06%\n",
       "Confusion matrix:\n",
       "      NO YES class.error\n",
       "NO  4919  51  0.01026157\n",
       "YES  113 282  0.28607595"
      ]
     },
     "metadata": {},
     "output_type": "display_data"
    }
   ],
   "source": [
    "rf.fit"
   ]
  },
  {
   "cell_type": "code",
   "execution_count": 84,
   "id": "1ba2ec33",
   "metadata": {
    "scrolled": true
   },
   "outputs": [
    {
     "data": {
      "text/plain": [
       "Confusion Matrix and Statistics\n",
       "\n",
       "          Reference\n",
       "Prediction   NO  YES\n",
       "       NO  1641   33\n",
       "       YES   15   98\n",
       "                                          \n",
       "               Accuracy : 0.9731          \n",
       "                 95% CI : (0.9645, 0.9801)\n",
       "    No Information Rate : 0.9267          \n",
       "    P-Value [Acc > NIR] : < 2e-16         \n",
       "                                          \n",
       "                  Kappa : 0.7889          \n",
       "                                          \n",
       " Mcnemar's Test P-Value : 0.01414         \n",
       "                                          \n",
       "            Sensitivity : 0.9909          \n",
       "            Specificity : 0.7481          \n",
       "         Pos Pred Value : 0.9803          \n",
       "         Neg Pred Value : 0.8673          \n",
       "             Prevalence : 0.9267          \n",
       "         Detection Rate : 0.9183          \n",
       "   Detection Prevalence : 0.9368          \n",
       "      Balanced Accuracy : 0.8695          \n",
       "                                          \n",
       "       'Positive' Class : NO              \n",
       "                                          "
      ]
     },
     "metadata": {},
     "output_type": "display_data"
    }
   ],
   "source": [
    "confusionMatrix(rf.pred, as.factor(test$churned))\n",
    "#performance(rf.pred, measure = \"auc\")@y.values[[1]]\n"
   ]
  },
  {
   "cell_type": "code",
   "execution_count": 85,
   "id": "08e9f0c3",
   "metadata": {},
   "outputs": [
    {
     "data": {
      "text/html": [
       "'AUC Value is: 0.984364052070657'"
      ],
      "text/latex": [
       "'AUC Value is: 0.984364052070657'"
      ],
      "text/markdown": [
       "'AUC Value is: 0.984364052070657'"
      ],
      "text/plain": [
       "[1] \"AUC Value is: 0.984364052070657\""
      ]
     },
     "metadata": {},
     "output_type": "display_data"
    },
    {
     "data": {
      "image/png": "[encoded data removed]",
      "text/plain": [
       "plot without title"
      ]
     },
     "metadata": {},
     "output_type": "display_data"
    }
   ],
   "source": [
    "# Prediction, probability\n",
    "rf.pred.prob <- predict(\n",
    "  rf.fit, \n",
    "  test, \n",
    "  type = \"prob\"\n",
    ")\n",
    "rf.pred.prob.val <- prediction(\n",
    "  rf.pred.prob[,2],\n",
    "  test$churned\n",
    ")\n",
    "rf.pred.prob.perf <- performance(\n",
    "  rf.pred.prob.val,\n",
    "  \"auc\"\n",
    ")\n",
    "\n",
    "# print AUC value\n",
    "paste(\n",
    "  \"AUC Value is:\", \n",
    "  as.numeric(performance(\n",
    "    rf.pred.prob.val, \n",
    "    \"auc\"\n",
    "  )@y.values\n",
    "  )\n",
    ")\n",
    "# plots the ROC curve with colors where the splits are.\n",
    "plot(performance(rf.pred.prob.val, \"tpr\", \"fpr\"), colorize = TRUE)"
   ]
  },
  {
   "cell_type": "markdown",
   "id": "e6b1d321",
   "metadata": {},
   "source": [
    "Compared to Decision Tree, Random Forest had slightly higher accuracy (0.972 vs 0.974) and specificity (0.75 vs 0.74) and higher AUC (0.98 vs 0.96).\n",
    "Sensitivity for both were equal (0.99 vs 0.99).\n",
    "The models were statisitically significant with p value =  2.2e-16."
   ]
  },
  {
   "cell_type": "markdown",
   "id": "31b6fff6",
   "metadata": {},
   "source": [
    "## Logistic Regression"
   ]
  },
  {
   "cell_type": "markdown",
   "id": "c4e97f83",
   "metadata": {},
   "source": [
    "Logisitic regressions are easier to implement, interpret and very efficient to train. Also it not only provides a measure of how appropriate a predictor(coefficient size)is, but also its direction of association (positive or negative). The major limitation of Logistic Regression is the assumption of linearity between the dependent variable and the independent variables. "
   ]
  },
  {
   "cell_type": "code",
   "execution_count": 86,
   "id": "2c1d5ae7",
   "metadata": {},
   "outputs": [
    {
     "name": "stderr",
     "output_type": "stream",
     "text": [
      "Warning message:\n",
      "\"glm.fit: fitted probabilities numerically 0 or 1 occurred\""
     ]
    },
    {
     "data": {
      "text/plain": [
       "\n",
       "Call:\n",
       "glm(formula = as.factor(churned) ~ ., family = \"binomial\", data = data.model)\n",
       "\n",
       "Deviance Residuals: \n",
       "    Min       1Q   Median       3Q      Max  \n",
       "-3.9619  -0.0644   0.0000   0.0000   4.3675  \n",
       "\n",
       "Coefficients:\n",
       "                                Estimate Std. Error z value Pr(>|z|)    \n",
       "(Intercept)                   -1.789e+01  6.744e+02  -0.027    0.979    \n",
       "income                        -2.455e-04  1.309e-05 -18.748  < 2e-16 ***\n",
       "debt_with_other_lenders        2.533e-05  3.369e-06   7.520 5.46e-14 ***\n",
       "num_remittances_prev_12_mth   -1.794e-02  1.403e-02  -1.279    0.201    \n",
       "main_remittance_corridorAE_PH -2.395e+00  2.458e-01  -9.745  < 2e-16 ***\n",
       "main_remittance_corridorAE_PK -2.502e+00  1.821e-01 -13.739  < 2e-16 ***\n",
       "group_tenure0–6 Month          2.199e+01  6.744e+02   0.033    0.974    \n",
       "group_tenure12-18 Months       1.607e+01  6.744e+02   0.024    0.981    \n",
       "group_tenure18-24 Months      -3.946e-01  9.449e+02   0.000    1.000    \n",
       "group_tenure24-30 Months       7.135e-03  9.514e+02   0.000    1.000    \n",
       "group_tenure6-12 Months        1.981e+01  6.744e+02   0.029    0.977    \n",
       "---\n",
       "Signif. codes:  0 '***' 0.001 '**' 0.01 '*' 0.05 '.' 0.1 ' ' 1\n",
       "\n",
       "(Dispersion parameter for binomial family taken to be 1)\n",
       "\n",
       "    Null deviance: 3757.9  on 7151  degrees of freedom\n",
       "Residual deviance: 1391.8  on 7141  degrees of freedom\n",
       "AIC: 1413.8\n",
       "\n",
       "Number of Fisher Scoring iterations: 20\n"
      ]
     },
     "metadata": {},
     "output_type": "display_data"
    }
   ],
   "source": [
    "# full logistic model \n",
    "\n",
    "logisticModelFull <- glm(as.factor(churned) ~ ., family = \"binomial\", data.model)\n",
    "\n",
    "summary(logisticModelFull)"
   ]
  },
  {
   "cell_type": "code",
   "execution_count": 87,
   "id": "5f65fffd",
   "metadata": {
    "scrolled": false
   },
   "outputs": [
    {
     "name": "stderr",
     "output_type": "stream",
     "text": [
      "Warning message:\n",
      "\"glm.fit: fitted probabilities numerically 0 or 1 occurred\"Warning message:\n",
      "\"glm.fit: fitted probabilities numerically 0 or 1 occurred\"Warning message:\n",
      "\"glm.fit: fitted probabilities numerically 0 or 1 occurred\"Warning message:\n",
      "\"glm.fit: fitted probabilities numerically 0 or 1 occurred\"Warning message:\n",
      "\"glm.fit: fitted probabilities numerically 0 or 1 occurred\"Warning message:\n",
      "\"glm.fit: fitted probabilities numerically 0 or 1 occurred\"Warning message:\n",
      "\"glm.fit: fitted probabilities numerically 0 or 1 occurred\"Warning message:\n",
      "\"glm.fit: fitted probabilities numerically 0 or 1 occurred\"Warning message:\n",
      "\"glm.fit: fitted probabilities numerically 0 or 1 occurred\"Warning message:\n",
      "\"glm.fit: fitted probabilities numerically 0 or 1 occurred\""
     ]
    },
    {
     "data": {
      "text/plain": [
       "\n",
       "Call:\n",
       "glm(formula = as.factor(churned) ~ income + debt_with_other_lenders + \n",
       "    main_remittance_corridor + group_tenure, family = \"binomial\", \n",
       "    data = data.model)\n",
       "\n",
       "Deviance Residuals: \n",
       "    Min       1Q   Median       3Q      Max  \n",
       "-3.9579  -0.0645   0.0000   0.0000   4.4253  \n",
       "\n",
       "Coefficients:\n",
       "                                Estimate Std. Error z value Pr(>|z|)    \n",
       "(Intercept)                   -1.829e+01  6.746e+02  -0.027    0.978    \n",
       "income                        -2.456e-04  1.311e-05 -18.736  < 2e-16 ***\n",
       "debt_with_other_lenders        2.519e-05  3.400e-06   7.409 1.28e-13 ***\n",
       "main_remittance_corridorAE_PH -2.396e+00  2.453e-01  -9.768  < 2e-16 ***\n",
       "main_remittance_corridorAE_PK -2.497e+00  1.818e-01 -13.734  < 2e-16 ***\n",
       "group_tenure0–6 Month          2.198e+01  6.746e+02   0.033    0.974    \n",
       "group_tenure12-18 Months       1.606e+01  6.746e+02   0.024    0.981    \n",
       "group_tenure18-24 Months      -4.023e-01  9.451e+02   0.000    1.000    \n",
       "group_tenure24-30 Months      -9.931e-03  9.512e+02   0.000    1.000    \n",
       "group_tenure6-12 Months        1.980e+01  6.746e+02   0.029    0.977    \n",
       "---\n",
       "Signif. codes:  0 '***' 0.001 '**' 0.01 '*' 0.05 '.' 0.1 ' ' 1\n",
       "\n",
       "(Dispersion parameter for binomial family taken to be 1)\n",
       "\n",
       "    Null deviance: 3757.9  on 7151  degrees of freedom\n",
       "Residual deviance: 1393.5  on 7142  degrees of freedom\n",
       "AIC: 1413.5\n",
       "\n",
       "Number of Fisher Scoring iterations: 20\n"
      ]
     },
     "metadata": {},
     "output_type": "display_data"
    }
   ],
   "source": [
    "# new model (optimize model by finding the min. AIC value)\n",
    "logisticModelNew <-  stepAIC(logisticModelFull, trace = 0)\n",
    "summary(logisticModelNew)"
   ]
  },
  {
   "cell_type": "markdown",
   "id": "df33bb04",
   "metadata": {},
   "source": [
    "### Out-of-sample validation and cross validation"
   ]
  },
  {
   "cell_type": "code",
   "execution_count": 88,
   "id": "be52a784",
   "metadata": {},
   "outputs": [
    {
     "name": "stderr",
     "output_type": "stream",
     "text": [
      "Warning message:\n",
      "\"glm.fit: fitted probabilities numerically 0 or 1 occurred\""
     ]
    }
   ],
   "source": [
    "# modeling \n",
    "lr.fit <-glm(formula = as.factor(churned) ~ income + debt_with_other_lenders + main_remittance_corridor + \n",
    "    group_tenure, family = \"binomial\", data = train)"
   ]
  },
  {
   "cell_type": "code",
   "execution_count": 89,
   "id": "99334e6d",
   "metadata": {},
   "outputs": [],
   "source": [
    "#prediction \n",
    "probabilities <- lr.fit %>% predict(test, type = \"response\")\n",
    "predicted.classes <- ifelse(probabilities > 0.5, \"YES\", \"NO\")"
   ]
  },
  {
   "cell_type": "code",
   "execution_count": 90,
   "id": "ec34738c",
   "metadata": {},
   "outputs": [
    {
     "data": {
      "text/plain": [
       "Confusion Matrix and Statistics\n",
       "\n",
       "          Reference\n",
       "Prediction   NO  YES\n",
       "       NO  1638   42\n",
       "       YES   18   89\n",
       "                                         \n",
       "               Accuracy : 0.9664         \n",
       "                 95% CI : (0.957, 0.9743)\n",
       "    No Information Rate : 0.9267         \n",
       "    P-Value [Acc > NIR] : 6.696e-13      \n",
       "                                         \n",
       "                  Kappa : 0.7301         \n",
       "                                         \n",
       " Mcnemar's Test P-Value : 0.002985       \n",
       "                                         \n",
       "            Sensitivity : 0.9891         \n",
       "            Specificity : 0.6794         \n",
       "         Pos Pred Value : 0.9750         \n",
       "         Neg Pred Value : 0.8318         \n",
       "             Prevalence : 0.9267         \n",
       "         Detection Rate : 0.9166         \n",
       "   Detection Prevalence : 0.9401         \n",
       "      Balanced Accuracy : 0.8343         \n",
       "                                         \n",
       "       'Positive' Class : NO             \n",
       "                                         "
      ]
     },
     "metadata": {},
     "output_type": "display_data"
    }
   ],
   "source": [
    "confusionMatrix(data = as.factor(predicted.classes), as.factor(test$churned))\n"
   ]
  },
  {
   "cell_type": "code",
   "execution_count": 91,
   "id": "19852052",
   "metadata": {
    "scrolled": true
   },
   "outputs": [
    {
     "name": "stderr",
     "output_type": "stream",
     "text": [
      "Setting levels: control = NO, case = YES\n",
      "Setting direction: controls < cases\n"
     ]
    },
    {
     "data": {
      "image/png": "[encoded data removed]",
      "text/plain": [
       "plot without title"
      ]
     },
     "metadata": {},
     "output_type": "display_data"
    }
   ],
   "source": [
    "probabilities <- lr.fit %>% predict(test, type = \"response\")\n",
    "test_roc = roc(test$churned ~ probabilities, plot = TRUE, print.auc = TRUE)"
   ]
  },
  {
   "cell_type": "markdown",
   "id": "47c33235",
   "metadata": {},
   "source": [
    "All three models were statistically significant (p = < 2e-16)\n",
    "\n",
    "The decision tree above has accuracy of 0.97. \n",
    "\n",
    "For all three: Accuracy were 0.97, with random forest and logistic regression scoring slightly higher, and sensitivty was 0.99 \n",
    "\n",
    "Specificity was 0.75 for logisitc and the highest out of the three models, random forest and decision tree both scored 0.73 and 0.72 respectively\n",
    "\n",
    "AUC was 0.989 for logisitci regression , 0.98 for random forest and 0.95 for decision tree.\n",
    "\n",
    "Overall logistic regression scored highly with random forest with slighty lower scores. Deciision tree had the weakest model, however all three models scored very highly."
   ]
  },
  {
   "cell_type": "markdown",
   "id": "df5fa313",
   "metadata": {},
   "source": [
    "## Cross Validation"
   ]
  },
  {
   "cell_type": "markdown",
   "id": "ae1fac53",
   "metadata": {},
   "source": [
    "Cross-validation is primarily used in applied machine learning to estimate the skill of a machine learning model on unseen data"
   ]
  },
  {
   "cell_type": "code",
   "execution_count": 92,
   "id": "754039bd",
   "metadata": {},
   "outputs": [],
   "source": [
    "#k-fold cross val in caret\n",
    "set.seed(10)\n",
    "\n",
    "# train control\n",
    "fitControl <- trainControl(## 10-fold CV\n",
    "                            method = \"repeatedcv\",\n",
    "                            number = 10,\n",
    "                            ## repeated 3 times\n",
    "                            repeats = 3,\n",
    "                            classProbs = TRUE,\n",
    "                            summaryFunction = twoClassSummary)\n",
    "\n"
   ]
  },
  {
   "cell_type": "code",
   "execution_count": 93,
   "id": "5176bfa9",
   "metadata": {
    "scrolled": true
   },
   "outputs": [
    {
     "name": "stderr",
     "output_type": "stream",
     "text": [
      "Warning message:\n",
      "\"glm.fit: fitted probabilities numerically 0 or 1 occurred\"Warning message:\n",
      "\"glm.fit: fitted probabilities numerically 0 or 1 occurred\"Warning message:\n",
      "\"glm.fit: fitted probabilities numerically 0 or 1 occurred\"Warning message:\n",
      "\"glm.fit: fitted probabilities numerically 0 or 1 occurred\"Warning message:\n",
      "\"glm.fit: fitted probabilities numerically 0 or 1 occurred\"Warning message:\n",
      "\"glm.fit: fitted probabilities numerically 0 or 1 occurred\"Warning message:\n",
      "\"glm.fit: fitted probabilities numerically 0 or 1 occurred\"Warning message:\n",
      "\"glm.fit: fitted probabilities numerically 0 or 1 occurred\"Warning message:\n",
      "\"glm.fit: fitted probabilities numerically 0 or 1 occurred\"Warning message:\n",
      "\"glm.fit: fitted probabilities numerically 0 or 1 occurred\"Warning message:\n",
      "\"glm.fit: fitted probabilities numerically 0 or 1 occurred\"Warning message:\n",
      "\"glm.fit: fitted probabilities numerically 0 or 1 occurred\"Warning message:\n",
      "\"glm.fit: fitted probabilities numerically 0 or 1 occurred\"Warning message:\n",
      "\"glm.fit: fitted probabilities numerically 0 or 1 occurred\"Warning message:\n",
      "\"glm.fit: fitted probabilities numerically 0 or 1 occurred\"Warning message:\n",
      "\"glm.fit: fitted probabilities numerically 0 or 1 occurred\"Warning message:\n",
      "\"glm.fit: fitted probabilities numerically 0 or 1 occurred\"Warning message:\n",
      "\"glm.fit: fitted probabilities numerically 0 or 1 occurred\"Warning message:\n",
      "\"glm.fit: fitted probabilities numerically 0 or 1 occurred\"Warning message:\n",
      "\"glm.fit: fitted probabilities numerically 0 or 1 occurred\"Warning message:\n",
      "\"glm.fit: fitted probabilities numerically 0 or 1 occurred\"Warning message:\n",
      "\"glm.fit: fitted probabilities numerically 0 or 1 occurred\"Warning message:\n",
      "\"glm.fit: fitted probabilities numerically 0 or 1 occurred\"Warning message:\n",
      "\"glm.fit: fitted probabilities numerically 0 or 1 occurred\"Warning message:\n",
      "\"glm.fit: fitted probabilities numerically 0 or 1 occurred\"Warning message:\n",
      "\"glm.fit: fitted probabilities numerically 0 or 1 occurred\"Warning message:\n",
      "\"glm.fit: fitted probabilities numerically 0 or 1 occurred\"Warning message:\n",
      "\"glm.fit: fitted probabilities numerically 0 or 1 occurred\"Warning message:\n",
      "\"glm.fit: fitted probabilities numerically 0 or 1 occurred\"Warning message:\n",
      "\"glm.fit: fitted probabilities numerically 0 or 1 occurred\"Warning message:\n",
      "\"glm.fit: fitted probabilities numerically 0 or 1 occurred\""
     ]
    }
   ],
   "source": [
    "# logistic regression model\n",
    "logreg <- train(churned ~., train,\n",
    "                  method = \"glm\",\n",
    "                  family = \"binomial\",\n",
    "                  trControl = fitControl,\n",
    "                  metric = \"ROC\")"
   ]
  },
  {
   "cell_type": "code",
   "execution_count": 94,
   "id": "821dbd3b",
   "metadata": {},
   "outputs": [
    {
     "data": {
      "text/plain": [
       "Generalized Linear Model \n",
       "\n",
       "5365 samples\n",
       "   5 predictor\n",
       "   2 classes: 'NO', 'YES' \n",
       "\n",
       "No pre-processing\n",
       "Resampling: Cross-Validated (10 fold, repeated 3 times) \n",
       "Summary of sample sizes: 4828, 4828, 4829, 4829, 4828, 4829, ... \n",
       "Resampling results:\n",
       "\n",
       "  ROC        Sens       Spec    \n",
       "  0.9787045  0.9873239  0.638547\n"
      ]
     },
     "metadata": {},
     "output_type": "display_data"
    }
   ],
   "source": [
    "logreg \n"
   ]
  },
  {
   "cell_type": "code",
   "execution_count": 95,
   "id": "ef3504d5",
   "metadata": {},
   "outputs": [],
   "source": [
    "# random forest model\n",
    "rf <- train(churned ~., train,\n",
    "                  method = \"rf\",\n",
    "                  trControl = fitControl,\n",
    "                  metric = \"ROC\")\n"
   ]
  },
  {
   "cell_type": "code",
   "execution_count": 96,
   "id": "0b4f7aa3",
   "metadata": {
    "scrolled": true
   },
   "outputs": [
    {
     "data": {
      "text/plain": [
       "Random Forest \n",
       "\n",
       "5365 samples\n",
       "   5 predictor\n",
       "   2 classes: 'NO', 'YES' \n",
       "\n",
       "No pre-processing\n",
       "Resampling: Cross-Validated (10 fold, repeated 3 times) \n",
       "Summary of sample sizes: 4829, 4828, 4828, 4829, 4828, 4829, ... \n",
       "Resampling results across tuning parameters:\n",
       "\n",
       "  mtry  ROC        Sens       Spec     \n",
       "   2    0.9688070  0.9977867  0.4178632\n",
       "   6    0.9749082  0.9880617  0.7232265\n",
       "  10    0.9668340  0.9852448  0.7207051\n",
       "\n",
       "ROC was used to select the optimal model using the largest value.\n",
       "The final value used for the model was mtry = 6."
      ]
     },
     "metadata": {},
     "output_type": "display_data"
    }
   ],
   "source": [
    "rf"
   ]
  },
  {
   "cell_type": "code",
   "execution_count": 97,
   "id": "56207520",
   "metadata": {},
   "outputs": [],
   "source": [
    "# decision tree model\n",
    "dt <- train(churned ~., train,\n",
    "                  method = \"rpart\",\n",
    "                  trControl = fitControl,\n",
    "                  metric = \"ROC\")\n",
    "\n",
    "\n"
   ]
  },
  {
   "cell_type": "code",
   "execution_count": 98,
   "id": "c1542798",
   "metadata": {
    "scrolled": true
   },
   "outputs": [
    {
     "data": {
      "text/plain": [
       "CART \n",
       "\n",
       "5365 samples\n",
       "   5 predictor\n",
       "   2 classes: 'NO', 'YES' \n",
       "\n",
       "No pre-processing\n",
       "Resampling: Cross-Validated (10 fold, repeated 3 times) \n",
       "Summary of sample sizes: 4828, 4829, 4829, 4829, 4828, 4829, ... \n",
       "Resampling results across tuning parameters:\n",
       "\n",
       "  cp          ROC        Sens       Spec     \n",
       "  0.03797468  0.8380684  0.9877264  0.5103419\n",
       "  0.09873418  0.8356910  0.9773977  0.5818376\n",
       "  0.14303797  0.6460846  0.9839034  0.2819444\n",
       "\n",
       "ROC was used to select the optimal model using the largest value.\n",
       "The final value used for the model was cp = 0.03797468."
      ]
     },
     "metadata": {},
     "output_type": "display_data"
    }
   ],
   "source": [
    "dt"
   ]
  },
  {
   "cell_type": "code",
   "execution_count": 99,
   "id": "130bcc26",
   "metadata": {
    "scrolled": true
   },
   "outputs": [
    {
     "data": {
      "text/plain": [
       "\n",
       "Call:\n",
       "summary.resamples(object = results)\n",
       "\n",
       "Models: LR, RF, DT \n",
       "Number of resamples: 30 \n",
       "\n",
       "ROC \n",
       "        Min.   1st Qu.    Median      Mean   3rd Qu.      Max. NA's\n",
       "LR 0.9576433 0.9763272 0.9786927 0.9787045 0.9820103 0.9896817    0\n",
       "RF 0.9503773 0.9680261 0.9743848 0.9749082 0.9869215 0.9911469    0\n",
       "DT 0.7464789 0.8151150 0.8322241 0.8380684 0.8635752 0.9375755    0\n",
       "\n",
       "Sens \n",
       "        Min.   1st Qu.    Median      Mean   3rd Qu.      Max. NA's\n",
       "LR 0.9718310 0.9859155 0.9889336 0.9873239 0.9899396 0.9959759    0\n",
       "RF 0.9778672 0.9864185 0.9879276 0.9880617 0.9899396 0.9979879    0\n",
       "DT 0.9738431 0.9823944 0.9869215 0.9877264 0.9934608 0.9979879    0\n",
       "\n",
       "Spec \n",
       "        Min.   1st Qu.    Median      Mean   3rd Qu.  Max. NA's\n",
       "LR 0.4871795 0.5641026 0.6500000 0.6385470 0.6980769 0.800    0\n",
       "RF 0.5384615 0.7000000 0.7435897 0.7232265 0.7644231 0.800    0\n",
       "DT 0.3250000 0.4528846 0.5000000 0.5103419 0.5471154 0.725    0\n"
      ]
     },
     "metadata": {},
     "output_type": "display_data"
    },
    {
     "data": {
      "image/png": "[encoded data removed]",
      "text/plain": [
       "plot without title"
      ]
     },
     "metadata": {},
     "output_type": "display_data"
    },
    {
     "data": {
      "image/png": "[encoded data removed]",
      "text/plain": [
       "plot without title"
      ]
     },
     "metadata": {},
     "output_type": "display_data"
    }
   ],
   "source": [
    "# collect resamples\n",
    "results <- resamples(list(LR=logreg, RF=rf, DT=dt))\n",
    "# summarize the distributions\n",
    "summary(results)\n",
    "# boxplots of results\n",
    "bwplot(results)\n",
    "# dot plots of results\n",
    "dotplot(results)"
   ]
  },
  {
   "cell_type": "markdown",
   "id": "ca1dfb80",
   "metadata": {},
   "source": [
    "The logistic regression model had an average ROC of 0.979, the random forest model had an average ROC of approximately 0.975, and decision tree had 0.838\n",
    "\n",
    "Overall logisitic regression had high sensitivity (0.987), as well as a specificity of 0.64. Random Forest did well too in terms of AUC and sensitivity (0.988), the specificity had value of 0.723 which was slightly higher than specificty of log reg (0.639). \n",
    "\n",
    "Decision Tree was the weakest model out of logistisc regression and random forest with ROC, sensitivity and specifity being 0.838, 0.988, 0.510 respectively. "
   ]
  },
  {
   "cell_type": "markdown",
   "id": "a4abf691",
   "metadata": {},
   "source": [
    "# Final model - Logistic Regression"
   ]
  },
  {
   "cell_type": "markdown",
   "id": "5bc4afef",
   "metadata": {},
   "source": [
    "Though Random forest scored slightly better in specificity, logistic regression was chosen as the most powerful model due to scoring better in ROC and sensitivity, as well as in accuracy in other models. Therefore Log regression was used to predict churn out of the models."
   ]
  },
  {
   "cell_type": "code",
   "execution_count": 101,
   "id": "e7a59eef",
   "metadata": {
    "scrolled": false
   },
   "outputs": [
    {
     "name": "stderr",
     "output_type": "stream",
     "text": [
      "Warning message:\n",
      "\"glm.fit: fitted probabilities numerically 0 or 1 occurred\"Warning message:\n",
      "\"glm.fit: fitted probabilities numerically 0 or 1 occurred\"Warning message:\n",
      "\"glm.fit: fitted probabilities numerically 0 or 1 occurred\"Warning message:\n",
      "\"glm.fit: fitted probabilities numerically 0 or 1 occurred\"Warning message:\n",
      "\"glm.fit: fitted probabilities numerically 0 or 1 occurred\"Warning message:\n",
      "\"glm.fit: fitted probabilities numerically 0 or 1 occurred\"Warning message:\n",
      "\"glm.fit: fitted probabilities numerically 0 or 1 occurred\"Warning message:\n",
      "\"glm.fit: fitted probabilities numerically 0 or 1 occurred\"Warning message:\n",
      "\"glm.fit: fitted probabilities numerically 0 or 1 occurred\"Warning message:\n",
      "\"glm.fit: fitted probabilities numerically 0 or 1 occurred\"Warning message:\n",
      "\"glm.fit: fitted probabilities numerically 0 or 1 occurred\"Warning message:\n",
      "\"glm.fit: fitted probabilities numerically 0 or 1 occurred\"Warning message:\n",
      "\"glm.fit: fitted probabilities numerically 0 or 1 occurred\"Warning message:\n",
      "\"glm.fit: fitted probabilities numerically 0 or 1 occurred\"Warning message:\n",
      "\"glm.fit: fitted probabilities numerically 0 or 1 occurred\"Warning message:\n",
      "\"glm.fit: fitted probabilities numerically 0 or 1 occurred\"Warning message:\n",
      "\"glm.fit: fitted probabilities numerically 0 or 1 occurred\"Warning message:\n",
      "\"glm.fit: fitted probabilities numerically 0 or 1 occurred\"Warning message:\n",
      "\"glm.fit: fitted probabilities numerically 0 or 1 occurred\"Warning message:\n",
      "\"glm.fit: fitted probabilities numerically 0 or 1 occurred\"Warning message:\n",
      "\"glm.fit: fitted probabilities numerically 0 or 1 occurred\"Warning message:\n",
      "\"glm.fit: fitted probabilities numerically 0 or 1 occurred\"Warning message:\n",
      "\"glm.fit: fitted probabilities numerically 0 or 1 occurred\"Warning message:\n",
      "\"glm.fit: fitted probabilities numerically 0 or 1 occurred\"Warning message:\n",
      "\"glm.fit: fitted probabilities numerically 0 or 1 occurred\"Warning message:\n",
      "\"glm.fit: fitted probabilities numerically 0 or 1 occurred\""
     ]
    }
   ],
   "source": [
    "# logistic regression model\n",
    "logreg <- train(churned ~., data.model,\n",
    "                  method = \"glm\",\n",
    "                  family = \"binomial\")"
   ]
  },
  {
   "cell_type": "code",
   "execution_count": 102,
   "id": "d9b6134d",
   "metadata": {
    "scrolled": false
   },
   "outputs": [
    {
     "data": {
      "text/plain": [
       "\n",
       "Call:\n",
       "NULL\n",
       "\n",
       "Deviance Residuals: \n",
       "    Min       1Q   Median       3Q      Max  \n",
       "-3.9619  -0.0644   0.0000   0.0000   4.3675  \n",
       "\n",
       "Coefficients:\n",
       "                                Estimate Std. Error z value Pr(>|z|)    \n",
       "(Intercept)                   -1.789e+01  6.744e+02  -0.027    0.979    \n",
       "income                        -2.455e-04  1.309e-05 -18.748  < 2e-16 ***\n",
       "debt_with_other_lenders        2.533e-05  3.369e-06   7.520 5.46e-14 ***\n",
       "num_remittances_prev_12_mth   -1.794e-02  1.403e-02  -1.279    0.201    \n",
       "main_remittance_corridorAE_PH -2.395e+00  2.458e-01  -9.745  < 2e-16 ***\n",
       "main_remittance_corridorAE_PK -2.502e+00  1.821e-01 -13.739  < 2e-16 ***\n",
       "`group_tenure0–6 Month`        2.199e+01  6.744e+02   0.033    0.974    \n",
       "`group_tenure12-18 Months`     1.607e+01  6.744e+02   0.024    0.981    \n",
       "`group_tenure18-24 Months`    -3.946e-01  9.449e+02   0.000    1.000    \n",
       "`group_tenure24-30 Months`     7.135e-03  9.514e+02   0.000    1.000    \n",
       "`group_tenure6-12 Months`      1.981e+01  6.744e+02   0.029    0.977    \n",
       "---\n",
       "Signif. codes:  0 '***' 0.001 '**' 0.01 '*' 0.05 '.' 0.1 ' ' 1\n",
       "\n",
       "(Dispersion parameter for binomial family taken to be 1)\n",
       "\n",
       "    Null deviance: 3757.9  on 7151  degrees of freedom\n",
       "Residual deviance: 1391.8  on 7141  degrees of freedom\n",
       "AIC: 1413.8\n",
       "\n",
       "Number of Fisher Scoring iterations: 20\n"
      ]
     },
     "metadata": {},
     "output_type": "display_data"
    }
   ],
   "source": [
    "summary(logreg)"
   ]
  },
  {
   "cell_type": "markdown",
   "id": "48fc011a",
   "metadata": {},
   "source": [
    "# Conclusion"
   ]
  },
  {
   "cell_type": "markdown",
   "id": "3e8e00b2",
   "metadata": {},
   "source": [
    "The logistic regression coefficients give the change in the log odds of the outcome for a one unit increase in the predictor variable.\n",
    "\n",
    "For every one unit change in income, the log odds of churning decreases by 2.45e-04.\n",
    "For a one unit increase in debt with other lender, the log odds of churn increases by 2.53e-05\n",
    "When main remittance corridor is between UAE to the Philipines, the logs odds of churn decreases by 2.24\n",
    "When main remittance corridor is between UAE to the Pakistan, the logs odds of churn decreases by 2.50\n",
    "\n",
    "Income, and main remittance corridor between UAE and Pakistan had z values furthest from 0 and are therefore the strongest predictors. Group tenures were weakest indicators. Furthermore p values for group tenures were very higher and are therefore statistically insignificant. All other variables are statistically significant indicators of churn.\n",
    "\n",
    "Standard error indicates the uncertainty of the coefficients. SE for Group tenures were very high and indicates the observed group tenures values fall far from the regression line. All other variables had very low standard errors and therefore were very close to the regression line."
   ]
  },
  {
   "cell_type": "markdown",
   "id": "8e0e2f49",
   "metadata": {},
   "source": [
    "# Further comments"
   ]
  },
  {
   "cell_type": "markdown",
   "id": "9eb1fcca",
   "metadata": {},
   "source": [
    "With more time, I would have considered creating more models. During the data preprocessing step I decided to convert NAs to 0, I had checked current models against models using complete case. Models using complete case performed slightly worse.\n",
    "\n",
    "I would have ideally preferred to have 2 datasets, one where all NA were converted to 0 and second  data set would be where some missing values were imputed by mean. \n",
    "\n",
    "The reason why I would liked to have explored missing data further is due to the fact that customers with missing credit scores - could be due to error and would like to look into imputing those values. All of the customers that had missing credit score had an income and were still making payments and therefore must have had credit.\n",
    "\n",
    "With these 2 datasets, I would train logistic regression, decision tree and random forest models to each of them and compared the results and identified which models were most powerful. \n",
    "\n",
    "The models I have created for the task had very high scores which I believe thought was sufficient for the purpose of this task.\n",
    "\n",
    "I would have also like to have used two way anova to further improve my models.\n",
    "\n",
    "I would also ideally validate my models with more data and use these models as the benchmark when doing comparisons."
   ]
  }
 ],
 "metadata": {
  "kernelspec": {
   "display_name": "R",
   "language": "R",
   "name": "ir"
  },
  "language_info": {
   "codemirror_mode": "r",
   "file_extension": ".r",
   "mimetype": "text/x-r-source",
   "name": "R",
   "pygments_lexer": "r",
   "version": "3.6.1"
  }
 },
 "nbformat": 4,
 "nbformat_minor": 5
}
